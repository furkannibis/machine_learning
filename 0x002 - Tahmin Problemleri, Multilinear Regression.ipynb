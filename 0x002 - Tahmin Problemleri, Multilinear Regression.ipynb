{
 "cells": [
  {
   "cell_type": "code",
   "execution_count": 1,
   "id": "5d784358",
   "metadata": {},
   "outputs": [],
   "source": [
    "import numpy as np\n",
    "import pandas as pd"
   ]
  },
  {
   "cell_type": "code",
   "execution_count": 2,
   "id": "c7dc8bb5",
   "metadata": {},
   "outputs": [],
   "source": [
    "df = pd.read_csv(\"http://bilkav.com/veriler.csv\")"
   ]
  },
  {
   "cell_type": "code",
   "execution_count": 3,
   "id": "8e5ee359",
   "metadata": {},
   "outputs": [],
   "source": [
    "from sklearn.preprocessing import OneHotEncoder\n",
    "ohe = OneHotEncoder()"
   ]
  },
  {
   "cell_type": "code",
   "execution_count": 4,
   "id": "54a13e9e",
   "metadata": {},
   "outputs": [],
   "source": [
    "df_ulke = df.iloc[:,0:1].values\n",
    "df_ulke_ohe = ohe.fit_transform(df_ulke).toarray()\n",
    "df_ulke = pd.DataFrame(data=df_ulke_ohe, index=range(len(df_ulke_ohe)), columns=[\"FR\",\"TR\",\"USA\"])"
   ]
  },
  {
   "cell_type": "code",
   "execution_count": 5,
   "id": "b710711d",
   "metadata": {},
   "outputs": [],
   "source": [
    "df_cinsiyet_ohe = ohe.fit_transform(df.iloc[:,4:5].values).toarray()"
   ]
  },
  {
   "cell_type": "code",
   "execution_count": 6,
   "id": "7a02d993",
   "metadata": {},
   "outputs": [],
   "source": [
    "df_cinsiyet = pd.DataFrame(data=df_cinsiyet_ohe[:,0:1], index=range(len(df_cinsiyet_ohe)), columns=[\"CINSIYET\"])\n",
    "df_boy = pd.DataFrame(data=df.iloc[:,1:2].values, index=range(len(df.iloc[:,1:2].values)), columns=[\"BOY\"])\n",
    "df_kilo = pd.DataFrame(data=df.iloc[:,2:3].values, index=range(len(df.iloc[:,2:3].values)), columns=[\"KILO\"])\n",
    "df_yas = pd.DataFrame(data=df.iloc[:,3:4].values, index=range(len(df.iloc[:,3:4].values)), columns=[\"YAS\"])"
   ]
  },
  {
   "cell_type": "code",
   "execution_count": 7,
   "id": "e953b1af",
   "metadata": {},
   "outputs": [],
   "source": [
    "df = pd.concat([df_ulke, df_boy, df_kilo, df_yas], axis=1)\n",
    "df_all = pd.concat([df_ulke, df_boy, df_kilo, df_yas, df_cinsiyet], axis=1)"
   ]
  },
  {
   "cell_type": "code",
   "execution_count": 8,
   "id": "c344df86",
   "metadata": {},
   "outputs": [],
   "source": [
    "from sklearn.model_selection import train_test_split\n",
    "x_train, x_test, y_train, y_test = train_test_split(df, df_cinsiyet, test_size=0.33, random_state=0)"
   ]
  },
  {
   "cell_type": "code",
   "execution_count": 9,
   "id": "96efea64",
   "metadata": {},
   "outputs": [],
   "source": [
    "from sklearn.linear_model import LinearRegression\n",
    "regression = LinearRegression()"
   ]
  },
  {
   "cell_type": "code",
   "execution_count": 10,
   "id": "4479820f",
   "metadata": {},
   "outputs": [
    {
     "data": {
      "text/plain": [
       "LinearRegression()"
      ]
     },
     "execution_count": 10,
     "metadata": {},
     "output_type": "execute_result"
    }
   ],
   "source": [
    "regression.fit(x_train, y_train)"
   ]
  },
  {
   "cell_type": "code",
   "execution_count": 11,
   "id": "bf4c4cbb",
   "metadata": {},
   "outputs": [],
   "source": [
    "y_pred = regression.predict(x_test)"
   ]
  },
  {
   "cell_type": "code",
   "execution_count": 12,
   "id": "5bc29a6c",
   "metadata": {},
   "outputs": [
    {
     "data": {
      "text/plain": [
       "array([[ 0.98720204],\n",
       "       [-0.12036863],\n",
       "       [ 0.05009703],\n",
       "       [ 0.07137418],\n",
       "       [ 0.72473935],\n",
       "       [ 0.64615044],\n",
       "       [-0.03567453],\n",
       "       [ 0.32612171]])"
      ]
     },
     "execution_count": 12,
     "metadata": {},
     "output_type": "execute_result"
    }
   ],
   "source": [
    "y_pred"
   ]
  },
  {
   "cell_type": "code",
   "execution_count": 13,
   "id": "32ea767c",
   "metadata": {},
   "outputs": [
    {
     "data": {
      "text/html": [
       "<div>\n",
       "<style scoped>\n",
       "    .dataframe tbody tr th:only-of-type {\n",
       "        vertical-align: middle;\n",
       "    }\n",
       "\n",
       "    .dataframe tbody tr th {\n",
       "        vertical-align: top;\n",
       "    }\n",
       "\n",
       "    .dataframe thead th {\n",
       "        text-align: right;\n",
       "    }\n",
       "</style>\n",
       "<table border=\"1\" class=\"dataframe\">\n",
       "  <thead>\n",
       "    <tr style=\"text-align: right;\">\n",
       "      <th></th>\n",
       "      <th>CINSIYET</th>\n",
       "    </tr>\n",
       "  </thead>\n",
       "  <tbody>\n",
       "    <tr>\n",
       "      <th>20</th>\n",
       "      <td>0.0</td>\n",
       "    </tr>\n",
       "    <tr>\n",
       "      <th>10</th>\n",
       "      <td>0.0</td>\n",
       "    </tr>\n",
       "    <tr>\n",
       "      <th>14</th>\n",
       "      <td>0.0</td>\n",
       "    </tr>\n",
       "    <tr>\n",
       "      <th>13</th>\n",
       "      <td>0.0</td>\n",
       "    </tr>\n",
       "    <tr>\n",
       "      <th>1</th>\n",
       "      <td>1.0</td>\n",
       "    </tr>\n",
       "    <tr>\n",
       "      <th>21</th>\n",
       "      <td>0.0</td>\n",
       "    </tr>\n",
       "    <tr>\n",
       "      <th>11</th>\n",
       "      <td>0.0</td>\n",
       "    </tr>\n",
       "    <tr>\n",
       "      <th>19</th>\n",
       "      <td>0.0</td>\n",
       "    </tr>\n",
       "  </tbody>\n",
       "</table>\n",
       "</div>"
      ],
      "text/plain": [
       "    CINSIYET\n",
       "20       0.0\n",
       "10       0.0\n",
       "14       0.0\n",
       "13       0.0\n",
       "1        1.0\n",
       "21       0.0\n",
       "11       0.0\n",
       "19       0.0"
      ]
     },
     "execution_count": 13,
     "metadata": {},
     "output_type": "execute_result"
    }
   ],
   "source": [
    "y_test"
   ]
  },
  {
   "cell_type": "code",
   "execution_count": 14,
   "id": "6e06b156",
   "metadata": {},
   "outputs": [],
   "source": [
    "df = pd.concat([df_ulke, df_kilo, df_yas, df_cinsiyet], axis=1)"
   ]
  },
  {
   "cell_type": "code",
   "execution_count": 15,
   "id": "c5ad06c6",
   "metadata": {},
   "outputs": [],
   "source": [
    "x_train, x_test, y_train, y_test = train_test_split(df, df_boy, test_size=0.33, random_state=0)"
   ]
  },
  {
   "cell_type": "code",
   "execution_count": 16,
   "id": "53cdbc55",
   "metadata": {},
   "outputs": [
    {
     "data": {
      "text/plain": [
       "LinearRegression()"
      ]
     },
     "execution_count": 16,
     "metadata": {},
     "output_type": "execute_result"
    }
   ],
   "source": [
    "regression.fit(x_train, y_train)"
   ]
  },
  {
   "cell_type": "code",
   "execution_count": 17,
   "id": "2ad2c183",
   "metadata": {},
   "outputs": [
    {
     "data": {
      "text/plain": [
       "array([[182.26638686],\n",
       "       [152.87161474],\n",
       "       [162.79386375],\n",
       "       [158.30668577],\n",
       "       [130.82888952],\n",
       "       [173.96138408],\n",
       "       [150.12782663],\n",
       "       [157.26898922]])"
      ]
     },
     "execution_count": 17,
     "metadata": {},
     "output_type": "execute_result"
    }
   ],
   "source": [
    "y_pred = regression.predict(x_test)\n",
    "y_pred"
   ]
  },
  {
   "cell_type": "code",
   "execution_count": 18,
   "id": "d0edba75",
   "metadata": {},
   "outputs": [
    {
     "data": {
      "text/html": [
       "<div>\n",
       "<style scoped>\n",
       "    .dataframe tbody tr th:only-of-type {\n",
       "        vertical-align: middle;\n",
       "    }\n",
       "\n",
       "    .dataframe tbody tr th {\n",
       "        vertical-align: top;\n",
       "    }\n",
       "\n",
       "    .dataframe thead th {\n",
       "        text-align: right;\n",
       "    }\n",
       "</style>\n",
       "<table border=\"1\" class=\"dataframe\">\n",
       "  <thead>\n",
       "    <tr style=\"text-align: right;\">\n",
       "      <th></th>\n",
       "      <th>BOY</th>\n",
       "    </tr>\n",
       "  </thead>\n",
       "  <tbody>\n",
       "    <tr>\n",
       "      <th>20</th>\n",
       "      <td>164</td>\n",
       "    </tr>\n",
       "    <tr>\n",
       "      <th>10</th>\n",
       "      <td>165</td>\n",
       "    </tr>\n",
       "    <tr>\n",
       "      <th>14</th>\n",
       "      <td>167</td>\n",
       "    </tr>\n",
       "    <tr>\n",
       "      <th>13</th>\n",
       "      <td>162</td>\n",
       "    </tr>\n",
       "    <tr>\n",
       "      <th>1</th>\n",
       "      <td>125</td>\n",
       "    </tr>\n",
       "    <tr>\n",
       "      <th>21</th>\n",
       "      <td>166</td>\n",
       "    </tr>\n",
       "    <tr>\n",
       "      <th>11</th>\n",
       "      <td>155</td>\n",
       "    </tr>\n",
       "    <tr>\n",
       "      <th>19</th>\n",
       "      <td>159</td>\n",
       "    </tr>\n",
       "  </tbody>\n",
       "</table>\n",
       "</div>"
      ],
      "text/plain": [
       "    BOY\n",
       "20  164\n",
       "10  165\n",
       "14  167\n",
       "13  162\n",
       "1   125\n",
       "21  166\n",
       "11  155\n",
       "19  159"
      ]
     },
     "execution_count": 18,
     "metadata": {},
     "output_type": "execute_result"
    }
   ],
   "source": [
    "y_test"
   ]
  },
  {
   "cell_type": "code",
   "execution_count": 19,
   "id": "8fdc0cc1",
   "metadata": {},
   "outputs": [],
   "source": [
    "import statsmodels.api as sm"
   ]
  },
  {
   "cell_type": "code",
   "execution_count": 22,
   "id": "2a40514d",
   "metadata": {},
   "outputs": [],
   "source": [
    "X = np.append(arr=np.ones((22,1)).astype(int), values=df_all, axis=1)"
   ]
  },
  {
   "cell_type": "code",
   "execution_count": 23,
   "id": "9200d9b4",
   "metadata": {},
   "outputs": [
    {
     "data": {
      "text/plain": [
       "array([[  1.,   0.,   1.,   0., 130.,  30.,  10.,   1.],\n",
       "       [  1.,   0.,   1.,   0., 125.,  36.,  11.,   1.],\n",
       "       [  1.,   0.,   1.,   0., 135.,  34.,  10.,   0.],\n",
       "       [  1.,   0.,   1.,   0., 133.,  30.,   9.,   0.],\n",
       "       [  1.,   0.,   1.,   0., 129.,  38.,  12.,   1.],\n",
       "       [  1.,   0.,   1.,   0., 180.,  90.,  30.,   1.],\n",
       "       [  1.,   0.,   1.,   0., 190.,  80.,  25.,   1.],\n",
       "       [  1.,   0.,   1.,   0., 175.,  90.,  35.,   1.],\n",
       "       [  1.,   0.,   1.,   0., 177.,  60.,  22.,   0.],\n",
       "       [  1.,   0.,   0.,   1., 185., 105.,  33.,   1.],\n",
       "       [  1.,   0.,   0.,   1., 165.,  55.,  27.,   0.],\n",
       "       [  1.,   0.,   0.,   1., 155.,  50.,  44.,   0.],\n",
       "       [  1.,   0.,   0.,   1., 160.,  58.,  39.,   0.],\n",
       "       [  1.,   0.,   0.,   1., 162.,  59.,  41.,   0.],\n",
       "       [  1.,   0.,   0.,   1., 167.,  62.,  55.,   0.],\n",
       "       [  1.,   1.,   0.,   0., 174.,  70.,  47.,   1.],\n",
       "       [  1.,   1.,   0.,   0., 193.,  90.,  23.,   1.],\n",
       "       [  1.,   1.,   0.,   0., 187.,  80.,  27.,   1.],\n",
       "       [  1.,   1.,   0.,   0., 183.,  88.,  28.,   1.],\n",
       "       [  1.,   1.,   0.,   0., 159.,  40.,  29.,   0.],\n",
       "       [  1.,   1.,   0.,   0., 164.,  66.,  32.,   0.],\n",
       "       [  1.,   1.,   0.,   0., 166.,  56.,  42.,   0.]])"
      ]
     },
     "execution_count": 23,
     "metadata": {},
     "output_type": "execute_result"
    }
   ],
   "source": [
    "X"
   ]
  },
  {
   "cell_type": "code",
   "execution_count": 27,
   "id": "2c9e41be",
   "metadata": {},
   "outputs": [
    {
     "data": {
      "text/plain": [
       "array([[  0.,   1.,   0.,  30.,  10.,   1.],\n",
       "       [  0.,   1.,   0.,  36.,  11.,   1.],\n",
       "       [  0.,   1.,   0.,  34.,  10.,   0.],\n",
       "       [  0.,   1.,   0.,  30.,   9.,   0.],\n",
       "       [  0.,   1.,   0.,  38.,  12.,   1.],\n",
       "       [  0.,   1.,   0.,  90.,  30.,   1.],\n",
       "       [  0.,   1.,   0.,  80.,  25.,   1.],\n",
       "       [  0.,   1.,   0.,  90.,  35.,   1.],\n",
       "       [  0.,   1.,   0.,  60.,  22.,   0.],\n",
       "       [  0.,   0.,   1., 105.,  33.,   1.],\n",
       "       [  0.,   0.,   1.,  55.,  27.,   0.],\n",
       "       [  0.,   0.,   1.,  50.,  44.,   0.],\n",
       "       [  0.,   0.,   1.,  58.,  39.,   0.],\n",
       "       [  0.,   0.,   1.,  59.,  41.,   0.],\n",
       "       [  0.,   0.,   1.,  62.,  55.,   0.],\n",
       "       [  1.,   0.,   0.,  70.,  47.,   1.],\n",
       "       [  1.,   0.,   0.,  90.,  23.,   1.],\n",
       "       [  1.,   0.,   0.,  80.,  27.,   1.],\n",
       "       [  1.,   0.,   0.,  88.,  28.,   1.],\n",
       "       [  1.,   0.,   0.,  40.,  29.,   0.],\n",
       "       [  1.,   0.,   0.,  66.,  32.,   0.],\n",
       "       [  1.,   0.,   0.,  56.,  42.,   0.]])"
      ]
     },
     "execution_count": 27,
     "metadata": {},
     "output_type": "execute_result"
    }
   ],
   "source": [
    "X_l = df.iloc[:,[0,1,2,3,4,5]].values\n",
    "X_l = np.array(X_l, dtype=float)\n",
    "X_l"
   ]
  },
  {
   "cell_type": "code",
   "execution_count": 32,
   "id": "3fa3cf15",
   "metadata": {},
   "outputs": [
    {
     "name": "stdout",
     "output_type": "stream",
     "text": [
      "                            OLS Regression Results                            \n",
      "==============================================================================\n",
      "Dep. Variable:                    BOY   R-squared:                       0.885\n",
      "Model:                            OLS   Adj. R-squared:                  0.849\n",
      "Method:                 Least Squares   F-statistic:                     24.69\n",
      "Date:                Mon, 06 Mar 2023   Prob (F-statistic):           5.41e-07\n",
      "Time:                        00:57:30   Log-Likelihood:                -73.950\n",
      "No. Observations:                  22   AIC:                             159.9\n",
      "Df Residuals:                      16   BIC:                             166.4\n",
      "Df Model:                           5                                         \n",
      "Covariance Type:            nonrobust                                         \n",
      "==============================================================================\n",
      "                 coef    std err          t      P>|t|      [0.025      0.975]\n",
      "------------------------------------------------------------------------------\n",
      "x1           114.0688      8.145     14.005      0.000      96.802     131.335\n",
      "x2           108.3030      5.736     18.880      0.000      96.143     120.463\n",
      "x3           104.4714      9.195     11.361      0.000      84.978     123.964\n",
      "x4             0.9211      0.119      7.737      0.000       0.669       1.174\n",
      "x5             0.0814      0.221      0.369      0.717      -0.386       0.549\n",
      "x6           -10.5980      5.052     -2.098      0.052     -21.308       0.112\n",
      "==============================================================================\n",
      "Omnibus:                        1.031   Durbin-Watson:                   2.759\n",
      "Prob(Omnibus):                  0.597   Jarque-Bera (JB):                0.624\n",
      "Skew:                           0.407   Prob(JB):                        0.732\n",
      "Kurtosis:                       2.863   Cond. No.                         524.\n",
      "==============================================================================\n",
      "\n",
      "Notes:\n",
      "[1] Standard Errors assume that the covariance matrix of the errors is correctly specified.\n"
     ]
    }
   ],
   "source": [
    "model = sm.OLS(df_boy, X_l).fit()\n",
    "print(model.summary())"
   ]
  },
  {
   "cell_type": "code",
   "execution_count": 33,
   "id": "e826cbcf",
   "metadata": {},
   "outputs": [
    {
     "name": "stdout",
     "output_type": "stream",
     "text": [
      "                            OLS Regression Results                            \n",
      "==============================================================================\n",
      "Dep. Variable:                    BOY   R-squared:                       0.884\n",
      "Model:                            OLS   Adj. R-squared:                  0.857\n",
      "Method:                 Least Squares   F-statistic:                     32.47\n",
      "Date:                Mon, 06 Mar 2023   Prob (F-statistic):           9.32e-08\n",
      "Time:                        00:58:28   Log-Likelihood:                -74.043\n",
      "No. Observations:                  22   AIC:                             158.1\n",
      "Df Residuals:                      17   BIC:                             163.5\n",
      "Df Model:                           4                                         \n",
      "Covariance Type:            nonrobust                                         \n",
      "==============================================================================\n",
      "                 coef    std err          t      P>|t|      [0.025      0.975]\n",
      "------------------------------------------------------------------------------\n",
      "x1           115.6583      6.734     17.175      0.000     101.451     129.866\n",
      "x2           109.0786      5.200     20.978      0.000      98.108     120.049\n",
      "x3           106.5445      7.090     15.026      0.000      91.585     121.504\n",
      "x4             0.9405      0.104      9.029      0.000       0.721       1.160\n",
      "x5           -11.1093      4.733     -2.347      0.031     -21.096      -1.123\n",
      "==============================================================================\n",
      "Omnibus:                        0.871   Durbin-Watson:                   2.719\n",
      "Prob(Omnibus):                  0.647   Jarque-Bera (JB):                0.459\n",
      "Skew:                           0.351   Prob(JB):                        0.795\n",
      "Kurtosis:                       2.910   Cond. No.                         397.\n",
      "==============================================================================\n",
      "\n",
      "Notes:\n",
      "[1] Standard Errors assume that the covariance matrix of the errors is correctly specified.\n"
     ]
    }
   ],
   "source": [
    "X_l = df.iloc[:,[0,1,2,3,5]].values\n",
    "X_l = np.array(X_l, dtype=float)\n",
    "model = sm.OLS(df_boy, X_l).fit()\n",
    "print(model.summary())"
   ]
  },
  {
   "cell_type": "code",
   "execution_count": 34,
   "id": "121ce0e2",
   "metadata": {},
   "outputs": [
    {
     "name": "stdout",
     "output_type": "stream",
     "text": [
      "                            OLS Regression Results                            \n",
      "==============================================================================\n",
      "Dep. Variable:                    BOY   R-squared:                       0.847\n",
      "Model:                            OLS   Adj. R-squared:                  0.821\n",
      "Method:                 Least Squares   F-statistic:                     33.16\n",
      "Date:                Mon, 06 Mar 2023   Prob (F-statistic):           1.52e-07\n",
      "Time:                        00:58:53   Log-Likelihood:                -77.131\n",
      "No. Observations:                  22   AIC:                             162.3\n",
      "Df Residuals:                      18   BIC:                             166.6\n",
      "Df Model:                           3                                         \n",
      "Covariance Type:            nonrobust                                         \n",
      "==============================================================================\n",
      "                 coef    std err          t      P>|t|      [0.025      0.975]\n",
      "------------------------------------------------------------------------------\n",
      "x1           119.8136      7.265     16.491      0.000     104.550     135.077\n",
      "x2           109.8084      5.804     18.919      0.000      97.615     122.002\n",
      "x3           114.4212      6.984     16.382      0.000      99.747     129.095\n",
      "x4             0.7904      0.092      8.595      0.000       0.597       0.984\n",
      "==============================================================================\n",
      "Omnibus:                        2.925   Durbin-Watson:                   2.855\n",
      "Prob(Omnibus):                  0.232   Jarque-Bera (JB):                1.499\n",
      "Skew:                           0.605   Prob(JB):                        0.473\n",
      "Kurtosis:                       3.416   Cond. No.                         369.\n",
      "==============================================================================\n",
      "\n",
      "Notes:\n",
      "[1] Standard Errors assume that the covariance matrix of the errors is correctly specified.\n"
     ]
    }
   ],
   "source": [
    "X_l = df.iloc[:,[0,1,2,3]].values\n",
    "X_l = np.array(X_l, dtype=float)\n",
    "model = sm.OLS(df_boy, X_l).fit()\n",
    "print(model.summary())"
   ]
  }
 ],
 "metadata": {
  "kernelspec": {
   "display_name": "Python 3 (ipykernel)",
   "language": "python",
   "name": "python3"
  },
  "language_info": {
   "codemirror_mode": {
    "name": "ipython",
    "version": 3
   },
   "file_extension": ".py",
   "mimetype": "text/x-python",
   "name": "python",
   "nbconvert_exporter": "python",
   "pygments_lexer": "ipython3",
   "version": "3.9.13"
  }
 },
 "nbformat": 4,
 "nbformat_minor": 5
}
