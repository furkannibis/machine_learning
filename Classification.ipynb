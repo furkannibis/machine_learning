{
 "cells": [
  {
   "cell_type": "code",
   "execution_count": 32,
   "id": "f6abbdbd",
   "metadata": {},
   "outputs": [],
   "source": [
    "import importlib\n",
    "from sklearn.feature_extraction.text import CountVectorizer\n",
    "from sklearn.naive_bayes import GaussianNB\n",
    "import numpy as np\n",
    "import pandas as pd\n",
    "\n",
    "class WAF:\n",
    "\n",
    "    def read_file(self, filename_or_buffer):\n",
    "        self.file = pd.read_csv(filename_or_buffer)\n",
    "\n",
    "    def countWords(self, column_1, column_2):\n",
    "        self.vectorizer = CountVectorizer()\n",
    "        self.X = self.vectorizer.fit_transform(self.file[f'{column_1}'])\n",
    "        self.y = self.file[f'{column_2}'].values\n",
    "\n",
    "    def inf(self):\n",
    "        print(\"\"\"\n",
    "Web uygulamaları, günümüzün dijital dünyasında önemli bir yere sahiptir.                                 \n",
    "Ancak, internet üzerinden hizmet veren web uygulamaları, güvenlik açıkları nedeniyle saldırılara maruz kalabilirler. \n",
    "Bu nedenle, web uygulamalarının güvenliğinin sağlanması son derece önemlidir.                               \n",
    "                                                                                                          \n",
    "Ağ ve Siber Güvenlik Topluluğu olarak, web uygulamalarının güvenliği için geliştirdiğimiz bir çözüm sunuyoruz: \n",
    "Web Application Firewall (WAF).                                                                         \n",
    "WAF, web uygulamalarındaki güvenlik açıklarını tespit etmek ve önlemek için makine öğrenmesi yöntemlerini kullanmaktadır. \n",
    "                                                                                                        \n",
    "Makine öğrenmesi yöntemleri, WAF'in gelişmiş özelliklerinden biridir.                                   \n",
    "WAF, doğru eğitim verileri ile birlikte kullanıldığında, web uygulamalarındaki güvenlik açıklarını otomatik olarak tespit edebilir \n",
    "ve bunları kapatmak için önlemler alabilir.                                                             \n",
    "Örneğin, WAF, SQL enjeksiyonu, XSS (Cross-Site Scripting) ve CSRF (Cross-Site Request Forgery) gibi saldırıları tespit edebilir ve \n",
    "bunlara karşı koruma sağlayabilir.                                                                      \n",
    "                                                                                                        \n",
    "Ayrıca, WAF, ölçeklenebilir bir yapıya sahiptir ve birçok farklı web uygulamasına uygulanabilir.        \n",
    "Bu, WAF'in farklı işletmeler ve kurumlar için uygun bir çözüm olduğu anlamına gelir.                      \n",
    "                                                                                                          \n",
    "Ağ ve Siber Güvenlik Topluluğu olarak, web uygulamalarının güvenliği için özel bir çözüm sunuyoruz.            \n",
    "Makine öğrenmesi yöntemlerini kullanarak geliştirdiğimiz Web Application Firewall (WAF),                       \n",
    "web uygulamalarındaki güvenlik açıklarını otomatik olarak tespit edebilir ve bu açıkları önlemek için gerekli adımları atabilir. \n",
    "Bu sayede, web uygulamalarının güvenliği konusunda endişe etmeden işinize odaklanabilirsiniz.                   \n",
    "\"\"\")\n"
   ]
  },
  {
   "cell_type": "code",
   "execution_count": 33,
   "id": "c1c8897e",
   "metadata": {},
   "outputs": [],
   "source": [
    "waf = WAF()"
   ]
  },
  {
   "cell_type": "code",
   "execution_count": 34,
   "id": "6894185d",
   "metadata": {},
   "outputs": [],
   "source": [
    "waf.read_file(filename_or_buffer=\"data/sqli/sqli_1.csv\")"
   ]
  },
  {
   "cell_type": "code",
   "execution_count": 35,
   "id": "840d7f3f",
   "metadata": {},
   "outputs": [],
   "source": [
    "waf.countWords(\"Query\",\"Label\")"
   ]
  },
  {
   "cell_type": "code",
   "execution_count": 36,
   "id": "f936b30c",
   "metadata": {},
   "outputs": [
    {
     "name": "stdout",
     "output_type": "stream",
     "text": [
      "[1]\n"
     ]
    }
   ],
   "source": [
    "import joblib\n",
    "model = joblib.load('model.joblib')\n",
    "example = \"SELECT * FROM users WHERE username = 'admin' AND password = 'password' OR 1=1'\"\n",
    "example_features = waf.vectorizer.transform([example])\n",
    "prediction = model.predict(example_features.toarray())\n",
    "\n",
    "# Tahmin sonucunu yazdır\n",
    "print(prediction)\n"
   ]
  },
  {
   "cell_type": "code",
   "execution_count": null,
   "id": "522df5d9",
   "metadata": {},
   "outputs": [],
   "source": []
  }
 ],
 "metadata": {
  "kernelspec": {
   "display_name": "Python 3 (ipykernel)",
   "language": "python",
   "name": "python3"
  },
  "language_info": {
   "codemirror_mode": {
    "name": "ipython",
    "version": 3
   },
   "file_extension": ".py",
   "mimetype": "text/x-python",
   "name": "python",
   "nbconvert_exporter": "python",
   "pygments_lexer": "ipython3",
   "version": "3.10.9"
  }
 },
 "nbformat": 4,
 "nbformat_minor": 5
}
